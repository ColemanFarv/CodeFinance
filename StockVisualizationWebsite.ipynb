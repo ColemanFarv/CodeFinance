{
 "cells": [
  {
   "cell_type": "code",
   "execution_count": 33,
   "metadata": {},
   "outputs": [],
   "source": [
    "from pathlib import Path\n",
    "import os #add this line to settings.py"
   ]
  },
  {
   "cell_type": "code",
   "execution_count": 34,
   "metadata": {},
   "outputs": [],
   "source": [
    "INSTALLED_APPS = [\n",
    "    'django.contrib.admin',\n",
    "    'django.contrib.auth',\n",
    "    'django.contrib.contenttypes',\n",
    "    'django.contrib.sessions',\n",
    "    'django.contrib.messages',\n",
    "    'django.contrib.staticfiles',\n",
    "    'stockVisualizer', #add this line to settings.py\n",
    "]"
   ]
  },
  {
   "cell_type": "code",
   "execution_count": 35,
   "metadata": {},
   "outputs": [],
   "source": []
  },
  {
   "cell_type": "code",
   "execution_count": 1,
   "metadata": {},
   "outputs": [
    {
     "ename": "ImproperlyConfigured",
     "evalue": "Requested setting INSTALLED_APPS, but settings are not configured. You must either define the environment variable DJANGO_SETTINGS_MODULE or call settings.configure() before accessing settings.",
     "output_type": "error",
     "traceback": [
      "\u001b[0;31m---------------------------------------------------------------------------\u001b[0m",
      "\u001b[0;31mImproperlyConfigured\u001b[0m                      Traceback (most recent call last)",
      "Cell \u001b[0;32mIn[1], line 6\u001b[0m\n\u001b[1;32m      3\u001b[0m \u001b[39mfrom\u001b[39;00m \u001b[39mdjango\u001b[39;00m\u001b[39m.\u001b[39;00m\u001b[39mdb\u001b[39;00m \u001b[39mimport\u001b[39;00m models\n\u001b[1;32m      5\u001b[0m \u001b[39m# Create your models here.\u001b[39;00m\n\u001b[0;32m----> 6\u001b[0m \u001b[39mclass\u001b[39;00m \u001b[39mStockData\u001b[39;00m(models\u001b[39m.\u001b[39mModel):\n\u001b[1;32m      7\u001b[0m     symbol \u001b[39m=\u001b[39m models\u001b[39m.\u001b[39mTextField(null\u001b[39m=\u001b[39m\u001b[39mTrue\u001b[39;00m)\n\u001b[1;32m      8\u001b[0m     data \u001b[39m=\u001b[39m models\u001b[39m.\u001b[39mTextField(null\u001b[39m=\u001b[39m\u001b[39mTrue\u001b[39;00m)\n",
      "File \u001b[0;32m~/anaconda3/lib/python3.10/site-packages/django/db/models/base.py:129\u001b[0m, in \u001b[0;36mModelBase.__new__\u001b[0;34m(cls, name, bases, attrs, **kwargs)\u001b[0m\n\u001b[1;32m    126\u001b[0m app_label \u001b[39m=\u001b[39m \u001b[39mNone\u001b[39;00m\n\u001b[1;32m    128\u001b[0m \u001b[39m# Look for an application configuration to attach the model to.\u001b[39;00m\n\u001b[0;32m--> 129\u001b[0m app_config \u001b[39m=\u001b[39m apps\u001b[39m.\u001b[39;49mget_containing_app_config(module)\n\u001b[1;32m    131\u001b[0m \u001b[39mif\u001b[39;00m \u001b[39mgetattr\u001b[39m(meta, \u001b[39m\"\u001b[39m\u001b[39mapp_label\u001b[39m\u001b[39m\"\u001b[39m, \u001b[39mNone\u001b[39;00m) \u001b[39mis\u001b[39;00m \u001b[39mNone\u001b[39;00m:\n\u001b[1;32m    132\u001b[0m     \u001b[39mif\u001b[39;00m app_config \u001b[39mis\u001b[39;00m \u001b[39mNone\u001b[39;00m:\n",
      "File \u001b[0;32m~/anaconda3/lib/python3.10/site-packages/django/apps/registry.py:260\u001b[0m, in \u001b[0;36mApps.get_containing_app_config\u001b[0;34m(self, object_name)\u001b[0m\n\u001b[1;32m    251\u001b[0m \u001b[39mdef\u001b[39;00m \u001b[39mget_containing_app_config\u001b[39m(\u001b[39mself\u001b[39m, object_name):\n\u001b[1;32m    252\u001b[0m \u001b[39m    \u001b[39m\u001b[39m\"\"\"\u001b[39;00m\n\u001b[1;32m    253\u001b[0m \u001b[39m    Look for an app config containing a given object.\u001b[39;00m\n\u001b[1;32m    254\u001b[0m \n\u001b[0;32m   (...)\u001b[0m\n\u001b[1;32m    258\u001b[0m \u001b[39m    Return None if the object isn't in any registered app config.\u001b[39;00m\n\u001b[1;32m    259\u001b[0m \u001b[39m    \"\"\"\u001b[39;00m\n\u001b[0;32m--> 260\u001b[0m     \u001b[39mself\u001b[39;49m\u001b[39m.\u001b[39;49mcheck_apps_ready()\n\u001b[1;32m    261\u001b[0m     candidates \u001b[39m=\u001b[39m []\n\u001b[1;32m    262\u001b[0m     \u001b[39mfor\u001b[39;00m app_config \u001b[39min\u001b[39;00m \u001b[39mself\u001b[39m\u001b[39m.\u001b[39mapp_configs\u001b[39m.\u001b[39mvalues():\n",
      "File \u001b[0;32m~/anaconda3/lib/python3.10/site-packages/django/apps/registry.py:137\u001b[0m, in \u001b[0;36mApps.check_apps_ready\u001b[0;34m(self)\u001b[0m\n\u001b[1;32m    132\u001b[0m \u001b[39mfrom\u001b[39;00m \u001b[39mdjango\u001b[39;00m\u001b[39m.\u001b[39;00m\u001b[39mconf\u001b[39;00m \u001b[39mimport\u001b[39;00m settings\n\u001b[1;32m    134\u001b[0m \u001b[39m# If \"not ready\" is due to unconfigured settings, accessing\u001b[39;00m\n\u001b[1;32m    135\u001b[0m \u001b[39m# INSTALLED_APPS raises a more helpful ImproperlyConfigured\u001b[39;00m\n\u001b[1;32m    136\u001b[0m \u001b[39m# exception.\u001b[39;00m\n\u001b[0;32m--> 137\u001b[0m settings\u001b[39m.\u001b[39;49mINSTALLED_APPS\n\u001b[1;32m    138\u001b[0m \u001b[39mraise\u001b[39;00m AppRegistryNotReady(\u001b[39m\"\u001b[39m\u001b[39mApps aren\u001b[39m\u001b[39m'\u001b[39m\u001b[39mt loaded yet.\u001b[39m\u001b[39m\"\u001b[39m)\n",
      "File \u001b[0;32m~/anaconda3/lib/python3.10/site-packages/django/conf/__init__.py:102\u001b[0m, in \u001b[0;36mLazySettings.__getattr__\u001b[0;34m(self, name)\u001b[0m\n\u001b[1;32m    100\u001b[0m \u001b[39m\u001b[39m\u001b[39m\"\"\"Return the value of a setting and cache it in self.__dict__.\"\"\"\u001b[39;00m\n\u001b[1;32m    101\u001b[0m \u001b[39mif\u001b[39;00m (_wrapped \u001b[39m:=\u001b[39m \u001b[39mself\u001b[39m\u001b[39m.\u001b[39m_wrapped) \u001b[39mis\u001b[39;00m empty:\n\u001b[0;32m--> 102\u001b[0m     \u001b[39mself\u001b[39;49m\u001b[39m.\u001b[39;49m_setup(name)\n\u001b[1;32m    103\u001b[0m     _wrapped \u001b[39m=\u001b[39m \u001b[39mself\u001b[39m\u001b[39m.\u001b[39m_wrapped\n\u001b[1;32m    104\u001b[0m val \u001b[39m=\u001b[39m \u001b[39mgetattr\u001b[39m(_wrapped, name)\n",
      "File \u001b[0;32m~/anaconda3/lib/python3.10/site-packages/django/conf/__init__.py:82\u001b[0m, in \u001b[0;36mLazySettings._setup\u001b[0;34m(self, name)\u001b[0m\n\u001b[1;32m     80\u001b[0m \u001b[39mif\u001b[39;00m \u001b[39mnot\u001b[39;00m settings_module:\n\u001b[1;32m     81\u001b[0m     desc \u001b[39m=\u001b[39m (\u001b[39m\"\u001b[39m\u001b[39msetting \u001b[39m\u001b[39m%s\u001b[39;00m\u001b[39m\"\u001b[39m \u001b[39m%\u001b[39m name) \u001b[39mif\u001b[39;00m name \u001b[39melse\u001b[39;00m \u001b[39m\"\u001b[39m\u001b[39msettings\u001b[39m\u001b[39m\"\u001b[39m\n\u001b[0;32m---> 82\u001b[0m     \u001b[39mraise\u001b[39;00m ImproperlyConfigured(\n\u001b[1;32m     83\u001b[0m         \u001b[39m\"\u001b[39m\u001b[39mRequested \u001b[39m\u001b[39m%s\u001b[39;00m\u001b[39m, but settings are not configured. \u001b[39m\u001b[39m\"\u001b[39m\n\u001b[1;32m     84\u001b[0m         \u001b[39m\"\u001b[39m\u001b[39mYou must either define the environment variable \u001b[39m\u001b[39m%s\u001b[39;00m\u001b[39m \u001b[39m\u001b[39m\"\u001b[39m\n\u001b[1;32m     85\u001b[0m         \u001b[39m\"\u001b[39m\u001b[39mor call settings.configure() before accessing settings.\u001b[39m\u001b[39m\"\u001b[39m\n\u001b[1;32m     86\u001b[0m         \u001b[39m%\u001b[39m (desc, ENVIRONMENT_VARIABLE)\n\u001b[1;32m     87\u001b[0m     )\n\u001b[1;32m     89\u001b[0m \u001b[39mself\u001b[39m\u001b[39m.\u001b[39m_wrapped \u001b[39m=\u001b[39m Settings(settings_module)\n",
      "\u001b[0;31mImproperlyConfigured\u001b[0m: Requested setting INSTALLED_APPS, but settings are not configured. You must either define the environment variable DJANGO_SETTINGS_MODULE or call settings.configure() before accessing settings."
     ]
    }
   ],
   "source": [
    "#models.py\n",
    "\n",
    "from django.db import models\n",
    "\n",
    "# Create your models here.\n",
    "class StockData(models.Model):\n",
    "    symbol = models.TextField(null=True)\n",
    "    data = models.TextField(null=True)"
   ]
  }
 ],
 "metadata": {
  "kernelspec": {
   "display_name": "base",
   "language": "python",
   "name": "python3"
  },
  "language_info": {
   "codemirror_mode": {
    "name": "ipython",
    "version": 3
   },
   "file_extension": ".py",
   "mimetype": "text/x-python",
   "name": "python",
   "nbconvert_exporter": "python",
   "pygments_lexer": "ipython3",
   "version": "3.10.11"
  },
  "orig_nbformat": 4,
  "vscode": {
   "interpreter": {
    "hash": "db3577cc6b91d807999cdaa42fd5932f62249137c27e00c7c7e8e8d18ebc79f3"
   }
  }
 },
 "nbformat": 4,
 "nbformat_minor": 2
}
